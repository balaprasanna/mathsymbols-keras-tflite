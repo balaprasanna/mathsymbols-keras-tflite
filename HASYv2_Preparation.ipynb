{
  "nbformat": 4,
  "nbformat_minor": 0,
  "metadata": {
    "colab": {
      "name": "HASYv2 Preparation.ipynb",
      "version": "0.3.2",
      "provenance": [],
      "collapsed_sections": [
        "fQ8BGDw-AfjQ"
      ],
      "toc_visible": true
    },
    "kernelspec": {
      "name": "python3",
      "display_name": "Python 3"
    },
    "accelerator": "GPU"
  },
  "cells": [
    {
      "cell_type": "code",
      "metadata": {
        "id": "bQEWEutNMTrp",
        "colab_type": "code",
        "colab": {}
      },
      "source": [
        "from fastai.core import *\n",
        "from fastai.vision import *"
      ],
      "execution_count": 0,
      "outputs": []
    },
    {
      "cell_type": "markdown",
      "metadata": {
        "id": "fQ8BGDw-AfjQ",
        "colab_type": "text"
      },
      "source": [
        "## Download HASYv2 dataset\n",
        "\n",
        "- https://arxiv.org/abs/1701.08380\n",
        "- https://zenodo.org/record/259444#.XTcKKJMzbm0\n"
      ]
    },
    {
      "cell_type": "code",
      "metadata": {
        "id": "PjRlfGuPAj6u",
        "colab_type": "code",
        "colab": {}
      },
      "source": [
        "# !wget --header=\"Host: zenodo.org\" --header=\"User-Agent: Mozilla/5.0 (Macintosh; Intel Mac OS X 10_14_5) AppleWebKit/537.36 (KHTML, like Gecko) Chrome/75.0.3770.142 Safari/537.36\" --header=\"Accept: text/html,application/xhtml+xml,application/xml;q=0.9,image/webp,image/apng,*/*;q=0.8,application/signed-exchange;v=b3\" --header=\"Accept-Language: en-US,en;q=0.9,ta;q=0.8\" --header=\"Referer: https://zenodo.org/record/259444\" --header=\"Cookie: session=436d12c44e21af6d_5d370a26.Sr1s-0tpOe6FVmOM5tGcX2Fuaak; __atuvc=1%7C30; __atuvs=5d370a2897888193000; _pk_ses.57.a333=*; _pk_id.57.a333=94576573ef886f63.1563888171.1.1563888172.1563888171.\" --header=\"Connection: keep-alive\" \"https://zenodo.org/record/259444/files/HASYv2.tar.bz2?download=1\" -O \"HASYv2.tar.bz2\" -c"
      ],
      "execution_count": 0,
      "outputs": []
    },
    {
      "cell_type": "code",
      "metadata": {
        "id": "HyZvEdm2AkaY",
        "colab_type": "code",
        "colab": {}
      },
      "source": [
        "filename = 'HASYv2.tar.bz2'\n",
        "!mkdir datav3"
      ],
      "execution_count": 0,
      "outputs": []
    },
    {
      "cell_type": "code",
      "metadata": {
        "id": "pLvKwoC7Ayyu",
        "colab_type": "code",
        "colab": {}
      },
      "source": [
        "# !cd datav2; "
      ],
      "execution_count": 0,
      "outputs": []
    },
    {
      "cell_type": "code",
      "metadata": {
        "id": "GF_eEDMGBEmK",
        "colab_type": "code",
        "colab": {}
      },
      "source": [
        "!tar -xjf datav2/{filename} -C datav3/"
      ],
      "execution_count": 0,
      "outputs": []
    },
    {
      "cell_type": "code",
      "metadata": {
        "id": "IJBETnz4BRev",
        "colab_type": "code",
        "colab": {}
      },
      "source": [
        "# pathv2 = Path(\"datav2\")\n",
        "pathv3 = Path(\"datav3\")"
      ],
      "execution_count": 0,
      "outputs": []
    },
    {
      "cell_type": "code",
      "metadata": {
        "id": "3SPhoHoiCU2r",
        "colab_type": "code",
        "colab": {
          "base_uri": "https://localhost:8080/",
          "height": 136
        },
        "outputId": "e0a2f100-56a5-497d-f98f-a32ae0d74c0c"
      },
      "source": [
        "pathv3.ls()"
      ],
      "execution_count": 153,
      "outputs": [
        {
          "output_type": "execute_result",
          "data": {
            "text/plain": [
              "[PosixPath('datav3/hasy-data'),\n",
              " PosixPath('datav3/symbols.csv'),\n",
              " PosixPath('datav3/hasy_tools.py'),\n",
              " PosixPath('datav3/README.txt'),\n",
              " PosixPath('datav3/verification-task'),\n",
              " PosixPath('datav3/hasy-data-labels.csv'),\n",
              " PosixPath('datav3/classification-task')]"
            ]
          },
          "metadata": {
            "tags": []
          },
          "execution_count": 153
        }
      ]
    },
    {
      "cell_type": "code",
      "metadata": {
        "id": "v2-Z-WuUCVdS",
        "colab_type": "code",
        "colab": {
          "base_uri": "https://localhost:8080/",
          "height": 204
        },
        "outputId": "a59468ee-23c7-43fe-9cee-2b496f9803d4"
      },
      "source": [
        "symbols_df = pd.read_csv(pathv3/'symbols.csv')\n",
        "symbols_df.tail()"
      ],
      "execution_count": 154,
      "outputs": [
        {
          "output_type": "execute_result",
          "data": {
            "text/html": [
              "<div>\n",
              "<style scoped>\n",
              "    .dataframe tbody tr th:only-of-type {\n",
              "        vertical-align: middle;\n",
              "    }\n",
              "\n",
              "    .dataframe tbody tr th {\n",
              "        vertical-align: top;\n",
              "    }\n",
              "\n",
              "    .dataframe thead th {\n",
              "        text-align: right;\n",
              "    }\n",
              "</style>\n",
              "<table border=\"1\" class=\"dataframe\">\n",
              "  <thead>\n",
              "    <tr style=\"text-align: right;\">\n",
              "      <th></th>\n",
              "      <th>symbol_id</th>\n",
              "      <th>latex</th>\n",
              "      <th>training_samples</th>\n",
              "      <th>test_samples</th>\n",
              "    </tr>\n",
              "  </thead>\n",
              "  <tbody>\n",
              "    <tr>\n",
              "      <th>364</th>\n",
              "      <td>1385</td>\n",
              "      <td>\\O</td>\n",
              "      <td>213</td>\n",
              "      <td>24</td>\n",
              "    </tr>\n",
              "    <tr>\n",
              "      <th>365</th>\n",
              "      <td>1394</td>\n",
              "      <td>\\o</td>\n",
              "      <td>282</td>\n",
              "      <td>32</td>\n",
              "    </tr>\n",
              "    <tr>\n",
              "      <th>366</th>\n",
              "      <td>1395</td>\n",
              "      <td>\\ae</td>\n",
              "      <td>257</td>\n",
              "      <td>29</td>\n",
              "    </tr>\n",
              "    <tr>\n",
              "      <th>367</th>\n",
              "      <td>1396</td>\n",
              "      <td>\\AE</td>\n",
              "      <td>134</td>\n",
              "      <td>15</td>\n",
              "    </tr>\n",
              "    <tr>\n",
              "      <th>368</th>\n",
              "      <td>1400</td>\n",
              "      <td>\\guillemotleft</td>\n",
              "      <td>96</td>\n",
              "      <td>11</td>\n",
              "    </tr>\n",
              "  </tbody>\n",
              "</table>\n",
              "</div>"
            ],
            "text/plain": [
              "     symbol_id           latex  training_samples  test_samples\n",
              "364       1385              \\O               213            24\n",
              "365       1394              \\o               282            32\n",
              "366       1395             \\ae               257            29\n",
              "367       1396             \\AE               134            15\n",
              "368       1400  \\guillemotleft                96            11"
            ]
          },
          "metadata": {
            "tags": []
          },
          "execution_count": 154
        }
      ]
    },
    {
      "cell_type": "code",
      "metadata": {
        "id": "Ugfl1XqPClPn",
        "colab_type": "code",
        "colab": {}
      },
      "source": [
        "pathv3img = pathv3/'hasy-data'"
      ],
      "execution_count": 0,
      "outputs": []
    },
    {
      "cell_type": "code",
      "metadata": {
        "id": "_W_CrHrNC6p6",
        "colab_type": "code",
        "colab": {
          "base_uri": "https://localhost:8080/",
          "height": 34
        },
        "outputId": "009ae20f-7365-464e-e88b-68b9fdd06140"
      },
      "source": [
        "len(pathv3img.ls())"
      ],
      "execution_count": 156,
      "outputs": [
        {
          "output_type": "execute_result",
          "data": {
            "text/plain": [
              "168233"
            ]
          },
          "metadata": {
            "tags": []
          },
          "execution_count": 156
        }
      ]
    },
    {
      "cell_type": "code",
      "metadata": {
        "id": "n2AOleHUC8yq",
        "colab_type": "code",
        "colab": {
          "base_uri": "https://localhost:8080/",
          "height": 204
        },
        "outputId": "13452dbc-b468-4b29-9a97-3125ae2f10fb"
      },
      "source": [
        "lables_df = pd.read_csv(pathv3/'hasy-data-labels.csv')\n",
        "lables_df.tail()"
      ],
      "execution_count": 157,
      "outputs": [
        {
          "output_type": "execute_result",
          "data": {
            "text/html": [
              "<div>\n",
              "<style scoped>\n",
              "    .dataframe tbody tr th:only-of-type {\n",
              "        vertical-align: middle;\n",
              "    }\n",
              "\n",
              "    .dataframe tbody tr th {\n",
              "        vertical-align: top;\n",
              "    }\n",
              "\n",
              "    .dataframe thead th {\n",
              "        text-align: right;\n",
              "    }\n",
              "</style>\n",
              "<table border=\"1\" class=\"dataframe\">\n",
              "  <thead>\n",
              "    <tr style=\"text-align: right;\">\n",
              "      <th></th>\n",
              "      <th>path</th>\n",
              "      <th>symbol_id</th>\n",
              "      <th>latex</th>\n",
              "      <th>user_id</th>\n",
              "    </tr>\n",
              "  </thead>\n",
              "  <tbody>\n",
              "    <tr>\n",
              "      <th>168228</th>\n",
              "      <td>hasy-data/v2-168228.png</td>\n",
              "      <td>1400</td>\n",
              "      <td>\\guillemotleft</td>\n",
              "      <td>16925</td>\n",
              "    </tr>\n",
              "    <tr>\n",
              "      <th>168229</th>\n",
              "      <td>hasy-data/v2-168229.png</td>\n",
              "      <td>1400</td>\n",
              "      <td>\\guillemotleft</td>\n",
              "      <td>16925</td>\n",
              "    </tr>\n",
              "    <tr>\n",
              "      <th>168230</th>\n",
              "      <td>hasy-data/v2-168230.png</td>\n",
              "      <td>1400</td>\n",
              "      <td>\\guillemotleft</td>\n",
              "      <td>16925</td>\n",
              "    </tr>\n",
              "    <tr>\n",
              "      <th>168231</th>\n",
              "      <td>hasy-data/v2-168231.png</td>\n",
              "      <td>1400</td>\n",
              "      <td>\\guillemotleft</td>\n",
              "      <td>16925</td>\n",
              "    </tr>\n",
              "    <tr>\n",
              "      <th>168232</th>\n",
              "      <td>hasy-data/v2-168232.png</td>\n",
              "      <td>1400</td>\n",
              "      <td>\\guillemotleft</td>\n",
              "      <td>16925</td>\n",
              "    </tr>\n",
              "  </tbody>\n",
              "</table>\n",
              "</div>"
            ],
            "text/plain": [
              "                           path  symbol_id           latex  user_id\n",
              "168228  hasy-data/v2-168228.png       1400  \\guillemotleft    16925\n",
              "168229  hasy-data/v2-168229.png       1400  \\guillemotleft    16925\n",
              "168230  hasy-data/v2-168230.png       1400  \\guillemotleft    16925\n",
              "168231  hasy-data/v2-168231.png       1400  \\guillemotleft    16925\n",
              "168232  hasy-data/v2-168232.png       1400  \\guillemotleft    16925"
            ]
          },
          "metadata": {
            "tags": []
          },
          "execution_count": 157
        }
      ]
    },
    {
      "cell_type": "code",
      "metadata": {
        "id": "JXVbXyGURbaO",
        "colab_type": "code",
        "colab": {
          "base_uri": "https://localhost:8080/",
          "height": 34
        },
        "outputId": "6e0f1e27-9c11-4221-8f75-b6f03608f6b3"
      },
      "source": [
        "!ls -lh ./datav3/hasy-data/v2-00000.png"
      ],
      "execution_count": 158,
      "outputs": [
        {
          "output_type": "stream",
          "text": [
            "-rw-r--r-- 1 1000 1000 243 Jan 24  2017 ./datav3/hasy-data/v2-00000.png\n"
          ],
          "name": "stdout"
        }
      ]
    },
    {
      "cell_type": "code",
      "metadata": {
        "id": "_yBGVuaDDLy3",
        "colab_type": "code",
        "colab": {
          "base_uri": "https://localhost:8080/",
          "height": 68
        },
        "outputId": "1264a4fe-7fb0-4c11-f8d1-404f81f77c7b"
      },
      "source": [
        "(pathv3/'hasy-data').ls()[:3]"
      ],
      "execution_count": 159,
      "outputs": [
        {
          "output_type": "execute_result",
          "data": {
            "text/plain": [
              "[PosixPath('datav3/hasy-data/v2-119339.png'),\n",
              " PosixPath('datav3/hasy-data/v2-83012.png'),\n",
              " PosixPath('datav3/hasy-data/v2-47840.png')]"
            ]
          },
          "metadata": {
            "tags": []
          },
          "execution_count": 159
        }
      ]
    },
    {
      "cell_type": "code",
      "metadata": {
        "id": "zTeOUiA0OXaQ",
        "colab_type": "code",
        "colab": {}
      },
      "source": [
        "il = ImageList.from_csv(pathv3, 'hasy-data-labels.csv')\n",
        "sp = il.split_by_rand_pct()\n",
        "lf = sp.label_from_df()\n",
        "# tf = lf.transform(tfms, size=32)\n",
        "# db = tf.databunch()"
      ],
      "execution_count": 0,
      "outputs": []
    },
    {
      "cell_type": "code",
      "metadata": {
        "id": "Z6t_sH5XTJPZ",
        "colab_type": "code",
        "colab": {}
      },
      "source": [
        "# db.show_batch(rows=3)"
      ],
      "execution_count": 0,
      "outputs": []
    },
    {
      "cell_type": "code",
      "metadata": {
        "id": "_Kvik2wJOYf8",
        "colab_type": "code",
        "colab": {
          "base_uri": "https://localhost:8080/",
          "height": 68
        },
        "outputId": "c5fee7ee-fd3f-4c63-cdde-a60972e1298e"
      },
      "source": [
        "il"
      ],
      "execution_count": 162,
      "outputs": [
        {
          "output_type": "execute_result",
          "data": {
            "text/plain": [
              "ImageList (168233 items)\n",
              "Image (3, 32, 32),Image (3, 32, 32),Image (3, 32, 32),Image (3, 32, 32),Image (3, 32, 32)\n",
              "Path: datav3"
            ]
          },
          "metadata": {
            "tags": []
          },
          "execution_count": 162
        }
      ]
    },
    {
      "cell_type": "code",
      "metadata": {
        "id": "5A7QPFbZT8-q",
        "colab_type": "code",
        "colab": {
          "base_uri": "https://localhost:8080/",
          "height": 34
        },
        "outputId": "3905176e-c8de-4947-eef8-daed80828d3d"
      },
      "source": [
        "for item in il.items:\n",
        "  print(item)\n",
        "  break"
      ],
      "execution_count": 163,
      "outputs": [
        {
          "output_type": "stream",
          "text": [
            "datav3/hasy-data/v2-00000.png\n"
          ],
          "name": "stdout"
        }
      ]
    },
    {
      "cell_type": "code",
      "metadata": {
        "id": "orqGGMV7U_5g",
        "colab_type": "code",
        "colab": {
          "base_uri": "https://localhost:8080/",
          "height": 68
        },
        "outputId": "eb6689e5-3792-4654-cd94-ae79ed1adb2b"
      },
      "source": [
        "lf.train.x.items"
      ],
      "execution_count": 165,
      "outputs": [
        {
          "output_type": "execute_result",
          "data": {
            "text/plain": [
              "array(['datav3/hasy-data/v2-00000.png', 'datav3/hasy-data/v2-00001.png', 'datav3/hasy-data/v2-00002.png',\n",
              "       'datav3/hasy-data/v2-00003.png', ..., 'datav3/hasy-data/v2-168229.png', 'datav3/hasy-data/v2-168230.png',\n",
              "       'datav3/hasy-data/v2-168231.png', 'datav3/hasy-data/v2-168232.png'], dtype='<U31')"
            ]
          },
          "metadata": {
            "tags": []
          },
          "execution_count": 165
        }
      ]
    },
    {
      "cell_type": "code",
      "metadata": {
        "id": "dNbRyHX-VIe9",
        "colab_type": "code",
        "colab": {}
      },
      "source": [
        "# lf.train.y.classes"
      ],
      "execution_count": 0,
      "outputs": []
    },
    {
      "cell_type": "code",
      "metadata": {
        "id": "wOwPTd6XXh_h",
        "colab_type": "code",
        "colab": {}
      },
      "source": [
        "copy_fn = lambda src,dst: shutil.copy(src,dst)"
      ],
      "execution_count": 0,
      "outputs": []
    },
    {
      "cell_type": "code",
      "metadata": {
        "id": "S8WWNvpGX29m",
        "colab_type": "code",
        "colab": {}
      },
      "source": [
        "dst_dir = 'datav3/hasy-data-imagenet-style'\n",
        "# !rm -rf dst_dir\n",
        "\n",
        "dst_dir_train = dst_dir+'/train'\n",
        "dst_dir_valid = dst_dir+'/valid'\n",
        "\n",
        "!mkdir {dst_dir}\n",
        "!mkdir {dst_dir_train}\n",
        "!mkdir {dst_dir_valid}"
      ],
      "execution_count": 0,
      "outputs": []
    },
    {
      "cell_type": "code",
      "metadata": {
        "id": "JDzM9TslYHOJ",
        "colab_type": "code",
        "colab": {}
      },
      "source": [
        "# Create label folders\n",
        "# lf.train.y.items\n",
        "\n",
        "# lf.train.y.c2i\n",
        "i2c_train = {v:k for k,v in lf.train.y.c2i.items()}\n",
        "i2c_valid = {v:k for k,v in lf.valid.y.c2i.items()}"
      ],
      "execution_count": 0,
      "outputs": []
    },
    {
      "cell_type": "code",
      "metadata": {
        "id": "w2ZFoabgbJ_U",
        "colab_type": "code",
        "colab": {}
      },
      "source": [
        "# set(i2c_train.values()) == set(i2c_valid.values())\n",
        "\n",
        "# Create all the base folders\n",
        "\n",
        "def create_lables_folder(base_folder):\n",
        "  for foldername in progress_bar(set(i2c_train.values())):\n",
        "    full_folder = Path(f\"{base_folder}/{foldername}\")\n",
        "    print(full_folder)\n",
        "    full_folder.mkdir()\n",
        "    \n",
        "create_lables_folder(dst_dir_train)\n",
        "create_lables_folder(dst_dir_valid)"
      ],
      "execution_count": 0,
      "outputs": []
    },
    {
      "cell_type": "code",
      "metadata": {
        "id": "x9u-3gVTakGV",
        "colab_type": "code",
        "colab": {}
      },
      "source": [
        "# i2c_train"
      ],
      "execution_count": 0,
      "outputs": []
    },
    {
      "cell_type": "code",
      "metadata": {
        "id": "W4r4XiZ_Vzau",
        "colab_type": "code",
        "colab": {
          "base_uri": "https://localhost:8080/",
          "height": 57
        },
        "outputId": "7ca6e490-e753-4268-c066-10307f524193"
      },
      "source": [
        "def copy_images_to_folder(base_folder, lf_tv):\n",
        "  for fname,label_class_id in progress_bar(list(zip(lf_tv.x.items, lf_tv.y.items))):\n",
        "    label_class = i2c_train[label_class_id]\n",
        "    #print(fname, f\"{base_folder}/{label_class}\", label_class_id)\n",
        "    copy_fn(fname, f\"{base_folder}/{label_class}\")\n",
        "    #if i==10 : break\n",
        "\n",
        "copy_images_to_folder(dst_dir_train, lf.train)\n",
        "copy_images_to_folder(dst_dir_valid, lf.valid)"
      ],
      "execution_count": 175,
      "outputs": [
        {
          "output_type": "display_data",
          "data": {
            "text/html": [
              "\n",
              "    <div>\n",
              "        <style>\n",
              "            /* Turns off some styling */\n",
              "            progress {\n",
              "                /* gets rid of default border in Firefox and Opera. */\n",
              "                border: none;\n",
              "                /* Needs to be in here for Safari polyfill so background images work as expected. */\n",
              "                background-size: auto;\n",
              "            }\n",
              "            .progress-bar-interrupted, .progress-bar-interrupted::-webkit-progress-bar {\n",
              "                background: #F44336;\n",
              "            }\n",
              "        </style>\n",
              "      <progress value='134587' class='' max='134587', style='width:300px; height:20px; vertical-align: middle;'></progress>\n",
              "      100.00% [134587/134587 00:21<00:00]\n",
              "    </div>\n",
              "    "
            ],
            "text/plain": [
              "<IPython.core.display.HTML object>"
            ]
          },
          "metadata": {
            "tags": []
          }
        },
        {
          "output_type": "display_data",
          "data": {
            "text/html": [
              "\n",
              "    <div>\n",
              "        <style>\n",
              "            /* Turns off some styling */\n",
              "            progress {\n",
              "                /* gets rid of default border in Firefox and Opera. */\n",
              "                border: none;\n",
              "                /* Needs to be in here for Safari polyfill so background images work as expected. */\n",
              "                background-size: auto;\n",
              "            }\n",
              "            .progress-bar-interrupted, .progress-bar-interrupted::-webkit-progress-bar {\n",
              "                background: #F44336;\n",
              "            }\n",
              "        </style>\n",
              "      <progress value='33646' class='' max='33646', style='width:300px; height:20px; vertical-align: middle;'></progress>\n",
              "      100.00% [33646/33646 00:07<00:00]\n",
              "    </div>\n",
              "    "
            ],
            "text/plain": [
              "<IPython.core.display.HTML object>"
            ]
          },
          "metadata": {
            "tags": []
          }
        }
      ]
    },
    {
      "cell_type": "code",
      "metadata": {
        "id": "W8vqSTzJWt6J",
        "colab_type": "code",
        "colab": {
          "base_uri": "https://localhost:8080/",
          "height": 34
        },
        "outputId": "626c820c-f5dd-4a7a-e13d-303abe0b55ae"
      },
      "source": [
        "set(lf.valid.y.items) == set(lf.train.y.items) "
      ],
      "execution_count": 176,
      "outputs": [
        {
          "output_type": "execute_result",
          "data": {
            "text/plain": [
              "True"
            ]
          },
          "metadata": {
            "tags": []
          },
          "execution_count": 176
        }
      ]
    },
    {
      "cell_type": "code",
      "metadata": {
        "id": "FPSMi3htlgR4",
        "colab_type": "code",
        "colab": {
          "base_uri": "https://localhost:8080/",
          "height": 119
        },
        "outputId": "ec394e9e-d18f-4607-c47b-56624a58b14d"
      },
      "source": [
        ""
      ],
      "execution_count": 3,
      "outputs": [
        {
          "output_type": "stream",
          "text": [
            "-rw-r--r-- 1 root 11086288 Jul 23 15:41 mathsymbol-best.h5\n",
            "-rw-r--r-- 1 root  3668308 Jul 23 15:42 mathsymbol-best.tflite\n",
            "-rw-r--r-- 1 root 11086520 Jul 23 14:23 mathsymbol.h5\n",
            "-rw-r--r-- 1 root  3668332 Jul 23 14:23 mathsymbol.tflite\n",
            "-rw-r--r-- 1 root 11086200 Jul 23 14:45 mathsymbol-v1.h5\n",
            "-rw-r--r-- 1 root  3668320 Jul 23 14:46 mathsymbol-v1.tflite\n"
          ],
          "name": "stdout"
        }
      ]
    },
    {
      "cell_type": "code",
      "metadata": {
        "id": "Z0iXQp2MxyfX",
        "colab_type": "code",
        "colab": {}
      },
      "source": [
        ""
      ],
      "execution_count": 0,
      "outputs": []
    },
    {
      "cell_type": "code",
      "metadata": {
        "id": "DsYCQPwOxyiL",
        "colab_type": "code",
        "colab": {}
      },
      "source": [
        ""
      ],
      "execution_count": 0,
      "outputs": []
    },
    {
      "cell_type": "markdown",
      "metadata": {
        "id": "zuo4n8SolgbA",
        "colab_type": "text"
      },
      "source": [
        "## Load data using Keras - ImageDataGen"
      ]
    },
    {
      "cell_type": "code",
      "metadata": {
        "id": "rmGVGYygXZsp",
        "colab_type": "code",
        "colab": {
          "base_uri": "https://localhost:8080/",
          "height": 34
        },
        "outputId": "410ec4a8-0bda-4ee8-9623-955a4240ca97"
      },
      "source": [
        "# Final ImageNet Style Path\n",
        "\n",
        "# path_imagenet_style = './datav3/hasy-data-imagenet-style'\n",
        "# path_imagenet_style"
      ],
      "execution_count": 177,
      "outputs": [
        {
          "output_type": "execute_result",
          "data": {
            "text/plain": [
              "PosixPath('datav3/hasy-data-imagenet-style')"
            ]
          },
          "metadata": {
            "tags": []
          },
          "execution_count": 177
        }
      ]
    },
    {
      "cell_type": "code",
      "metadata": {
        "id": "LNq2pf05lP1m",
        "colab_type": "code",
        "colab": {}
      },
      "source": [
        "import math\n",
        "\n",
        "import tensorflow as tf\n",
        "from tensorflow.keras.callbacks import LearningRateScheduler\n",
        "from tensorflow.keras.datasets import mnist\n",
        "from tensorflow.keras.initializers import Constant\n",
        "from tensorflow.keras.layers import Input, Conv2D, BatchNormalization, Activation, Dropout, Flatten, Dense\n",
        "from tensorflow.keras.models import Model\n",
        "from tensorflow.keras.utils import to_categorical"
      ],
      "execution_count": 0,
      "outputs": []
    },
    {
      "cell_type": "code",
      "metadata": {
        "id": "RH5WpQL-lqPj",
        "colab_type": "code",
        "colab": {}
      },
      "source": [
        "# len(set(lf.train.y.items)), lf.c\n",
        "# NUM_CLASSES = lf.c\n",
        "NUM_CLASSES = 369"
      ],
      "execution_count": 0,
      "outputs": []
    },
    {
      "cell_type": "code",
      "metadata": {
        "id": "AXYCuEt9lxzh",
        "colab_type": "code",
        "colab": {}
      },
      "source": [
        "# lf.train.x"
      ],
      "execution_count": 0,
      "outputs": []
    },
    {
      "cell_type": "markdown",
      "metadata": {
        "id": "rYQv8Hg3ndtU",
        "colab_type": "text"
      },
      "source": [
        "# DataLoaders"
      ]
    },
    {
      "cell_type": "code",
      "metadata": {
        "id": "VlRiRimJH8eL",
        "colab_type": "code",
        "colab": {}
      },
      "source": [
        "train_data_dir = './datav3/hasy-data-imagenet-style/train'\n",
        "valid_data_dir = './datav3/hasy-data-imagenet-style/valid'\n",
        "batch_size = 64\n",
        "img_height, img_width = 32,32\n",
        "nb_epochs = 5"
      ],
      "execution_count": 0,
      "outputs": []
    },
    {
      "cell_type": "code",
      "metadata": {
        "id": "NAzsqg8wmorg",
        "colab_type": "code",
        "colab": {}
      },
      "source": [
        "train_datagen = tf.keras.preprocessing.image.ImageDataGenerator(\n",
        "        rescale=1./255,\n",
        "        shear_range=0.2,\n",
        "        zoom_range=0.2,\n",
        "        horizontal_flip=False)\n",
        "\n",
        "test_datagen = tf.keras.preprocessing.image.ImageDataGenerator(rescale=1./255)\n"
      ],
      "execution_count": 0,
      "outputs": []
    },
    {
      "cell_type": "code",
      "metadata": {
        "id": "Ef5ExiTzmxLx",
        "colab_type": "code",
        "colab": {
          "base_uri": "https://localhost:8080/",
          "height": 51
        },
        "outputId": "ac85f1d7-1cbc-4785-b0b4-d1b895a859c0"
      },
      "source": [
        "train_generator = train_datagen.flow_from_directory(\n",
        "    train_data_dir,\n",
        "    target_size=(img_height, img_width),\n",
        "    batch_size=batch_size)\n",
        "\n",
        "validation_generator = test_datagen.flow_from_directory(\n",
        "    valid_data_dir,\n",
        "    target_size=(img_height, img_width),\n",
        "    batch_size=batch_size)"
      ],
      "execution_count": 8,
      "outputs": [
        {
          "output_type": "stream",
          "text": [
            "Found 134587 images belonging to 369 classes.\n",
            "Found 33646 images belonging to 369 classes.\n"
          ],
          "name": "stdout"
        }
      ]
    },
    {
      "cell_type": "code",
      "metadata": {
        "id": "Stxms5HH_s2j",
        "colab_type": "code",
        "colab": {}
      },
      "source": [
        "# Export labels\n",
        "import json\n",
        "\n",
        "with open('HASYv2-lables.json', 'w') as f:\n",
        "  f.write(json.dumps(train_generator.class_indices))"
      ],
      "execution_count": 0,
      "outputs": []
    },
    {
      "cell_type": "markdown",
      "metadata": {
        "id": "P_vRlg7XnhiQ",
        "colab_type": "text"
      },
      "source": [
        "# Model"
      ]
    },
    {
      "cell_type": "code",
      "metadata": {
        "id": "10zD0i1Lnz5t",
        "colab_type": "code",
        "colab": {
          "base_uri": "https://localhost:8080/",
          "height": 34
        },
        "outputId": "c9758107-9930-4ccb-d45c-b59d827d7b8b"
      },
      "source": [
        "NUM_CLASSES"
      ],
      "execution_count": 204,
      "outputs": [
        {
          "output_type": "execute_result",
          "data": {
            "text/plain": [
              "369"
            ]
          },
          "metadata": {
            "tags": []
          },
          "execution_count": 204
        }
      ]
    },
    {
      "cell_type": "code",
      "metadata": {
        "id": "pFVZxRzcw-qM",
        "colab_type": "code",
        "colab": {
          "base_uri": "https://localhost:8080/",
          "height": 697
        },
        "outputId": "9da46e2a-e72c-49f5-9349-26277c4bb6a4"
      },
      "source": [
        "## Model \n",
        "inputs = Input(shape=(32, 32, 3), name='input')\n",
        "\n",
        "x = Conv2D(24, kernel_size=(6, 6), strides=1)(inputs)\n",
        "x = BatchNormalization(scale=False, beta_initializer=Constant(0.01))(x)\n",
        "x = Activation('relu')(x)\n",
        "\n",
        "x = Conv2D(48, kernel_size=(5, 5), strides=2)(x)\n",
        "x = BatchNormalization(scale=False, beta_initializer=Constant(0.01))(x)\n",
        "x = Activation('relu')(x)\n",
        "\n",
        "\n",
        "x = Conv2D(64, kernel_size=(4, 4), strides=2)(x)\n",
        "x = BatchNormalization(scale=False, beta_initializer=Constant(0.01))(x)\n",
        "x = Activation('relu')(x)\n",
        "\n",
        "x = tf.keras.layers.Flatten()(x)\n",
        "x = Dense(200)(x)\n",
        "x = BatchNormalization(scale=False, beta_initializer=Constant(0.01))(x)\n",
        "x = Activation('relu')(x)\n",
        "x = Dropout(rate=0.25)(x)\n",
        "\n",
        "predications = Dense(NUM_CLASSES, activation='softmax', name='output')(x)\n",
        "\n",
        "model = Model(inputs=inputs, outputs=predications)\n",
        "model.compile(loss='categorical_crossentropy', optimizer='adam', metrics=['accuracy'])\n",
        "\n",
        "model.summary()"
      ],
      "execution_count": 27,
      "outputs": [
        {
          "output_type": "stream",
          "text": [
            "Model: \"model\"\n",
            "_________________________________________________________________\n",
            "Layer (type)                 Output Shape              Param #   \n",
            "=================================================================\n",
            "input (InputLayer)           [(None, 32, 32, 3)]       0         \n",
            "_________________________________________________________________\n",
            "conv2d (Conv2D)              (None, 27, 27, 24)        2616      \n",
            "_________________________________________________________________\n",
            "batch_normalization (BatchNo (None, 27, 27, 24)        72        \n",
            "_________________________________________________________________\n",
            "activation (Activation)      (None, 27, 27, 24)        0         \n",
            "_________________________________________________________________\n",
            "conv2d_1 (Conv2D)            (None, 12, 12, 48)        28848     \n",
            "_________________________________________________________________\n",
            "batch_normalization_1 (Batch (None, 12, 12, 48)        144       \n",
            "_________________________________________________________________\n",
            "activation_1 (Activation)    (None, 12, 12, 48)        0         \n",
            "_________________________________________________________________\n",
            "conv2d_2 (Conv2D)            (None, 5, 5, 64)          49216     \n",
            "_________________________________________________________________\n",
            "batch_normalization_2 (Batch (None, 5, 5, 64)          192       \n",
            "_________________________________________________________________\n",
            "activation_2 (Activation)    (None, 5, 5, 64)          0         \n",
            "_________________________________________________________________\n",
            "flatten (Flatten)            (None, 1600)              0         \n",
            "_________________________________________________________________\n",
            "dense (Dense)                (None, 200)               320200    \n",
            "_________________________________________________________________\n",
            "batch_normalization_3 (Batch (None, 200)               600       \n",
            "_________________________________________________________________\n",
            "activation_3 (Activation)    (None, 200)               0         \n",
            "_________________________________________________________________\n",
            "dropout (Dropout)            (None, 200)               0         \n",
            "_________________________________________________________________\n",
            "output (Dense)               (None, 369)               74169     \n",
            "=================================================================\n",
            "Total params: 476,057\n",
            "Trainable params: 475,385\n",
            "Non-trainable params: 672\n",
            "_________________________________________________________________\n"
          ],
          "name": "stdout"
        }
      ]
    },
    {
      "cell_type": "code",
      "metadata": {
        "colab_type": "code",
        "id": "_Lq0YDUYiTMN",
        "colab": {}
      },
      "source": [
        "lr_decay = lambda epoch: 0.001 + 0.02 * math.pow(1.0 / math.e, epoch / 3.0)\n",
        "decay_callback = LearningRateScheduler(lr_decay, verbose=1)"
      ],
      "execution_count": 0,
      "outputs": []
    },
    {
      "cell_type": "code",
      "metadata": {
        "id": "EtyqH7uGnVq4",
        "colab_type": "code",
        "colab": {}
      },
      "source": [
        "# model.fit_generator(\n",
        "#         train_generator,\n",
        "#         steps_per_epoch=2000,\n",
        "#         epochs=50,\n",
        "#         validation_data=validation_generator,\n",
        "#         validation_steps=800)"
      ],
      "execution_count": 0,
      "outputs": []
    },
    {
      "cell_type": "code",
      "metadata": {
        "id": "vKeT92_I1asy",
        "colab_type": "code",
        "colab": {}
      },
      "source": [
        "model.load_weights('HASYv2-best.h5')"
      ],
      "execution_count": 0,
      "outputs": []
    },
    {
      "cell_type": "code",
      "metadata": {
        "id": "m9gYc-oC0Wwe",
        "colab_type": "code",
        "colab": {
          "base_uri": "https://localhost:8080/",
          "height": 697
        },
        "outputId": "0a501354-1b2f-4678-dea8-b1e082fccbb8"
      },
      "source": [
        "# history = model.fit(x_train, y_train, batch_size=128, epochs=10, verbose=1, \n",
        "#                     validation_data=(x_test, y_test), callbacks=[decay_callback])\n",
        "\n",
        "\n",
        "history = model.fit_generator(\n",
        "    train_generator,\n",
        "    steps_per_epoch = train_generator.samples // batch_size,\n",
        "    validation_data = validation_generator, \n",
        "    validation_steps = validation_generator.samples // batch_size,\n",
        "    epochs = 10, callbacks=[decay_callback])"
      ],
      "execution_count": 30,
      "outputs": [
        {
          "output_type": "stream",
          "text": [
            "\n",
            "Epoch 00001: LearningRateScheduler reducing learning rate to 0.021.\n",
            "Epoch 1/10\n",
            "2102/2102 [==============================] - 144s 68ms/step - loss: 0.6832 - acc: 0.7863 - val_loss: 0.8908 - val_acc: 0.7717\n",
            "\n",
            "Epoch 00002: LearningRateScheduler reducing learning rate to 0.015330626211475785.\n",
            "Epoch 2/10\n",
            "2102/2102 [==============================] - 144s 68ms/step - loss: 0.5929 - acc: 0.8061 - val_loss: 0.7922 - val_acc: 0.7931\n",
            "\n",
            "Epoch 00003: LearningRateScheduler reducing learning rate to 0.01126834238065184.\n",
            "Epoch 3/10\n",
            "2102/2102 [==============================] - 143s 68ms/step - loss: 0.5217 - acc: 0.8228 - val_loss: 0.7981 - val_acc: 0.8026\n",
            "\n",
            "Epoch 00004: LearningRateScheduler reducing learning rate to 0.008357588823428847.\n",
            "Epoch 4/10\n",
            "2102/2102 [==============================] - 144s 68ms/step - loss: 0.4689 - acc: 0.8367 - val_loss: 0.8324 - val_acc: 0.8053\n",
            "\n",
            "Epoch 00005: LearningRateScheduler reducing learning rate to 0.006271942762314537.\n",
            "Epoch 5/10\n",
            "2102/2102 [==============================] - 144s 69ms/step - loss: 0.4301 - acc: 0.8480 - val_loss: 0.8232 - val_acc: 0.8069\n",
            "\n",
            "Epoch 00006: LearningRateScheduler reducing learning rate to 0.004777512056751237.\n",
            "Epoch 6/10\n",
            "2102/2102 [==============================] - 144s 69ms/step - loss: 0.3955 - acc: 0.8565 - val_loss: 0.8218 - val_acc: 0.8115\n",
            "\n",
            "Epoch 00007: LearningRateScheduler reducing learning rate to 0.0037067056647322543.\n",
            "Epoch 7/10\n",
            "2102/2102 [==============================] - 143s 68ms/step - loss: 0.3722 - acc: 0.8635 - val_loss: 0.8337 - val_acc: 0.8115\n",
            "\n",
            "Epoch 00008: LearningRateScheduler reducing learning rate to 0.0029394393572881013.\n",
            "Epoch 8/10\n",
            "2102/2102 [==============================] - 143s 68ms/step - loss: 0.3562 - acc: 0.8701 - val_loss: 0.8491 - val_acc: 0.8106\n",
            "\n",
            "Epoch 00009: LearningRateScheduler reducing learning rate to 0.0023896690244560315.\n",
            "Epoch 9/10\n",
            "2102/2102 [==============================] - 142s 68ms/step - loss: 0.3434 - acc: 0.8729 - val_loss: 0.8625 - val_acc: 0.8119\n",
            "\n",
            "Epoch 00010: LearningRateScheduler reducing learning rate to 0.001995741367357279.\n",
            "Epoch 10/10\n",
            "2102/2102 [==============================] - 142s 67ms/step - loss: 0.3327 - acc: 0.8770 - val_loss: 0.8773 - val_acc: 0.8118\n"
          ],
          "name": "stdout"
        }
      ]
    },
    {
      "cell_type": "code",
      "metadata": {
        "id": "iNhQ2ZaVysiP",
        "colab_type": "code",
        "colab": {
          "base_uri": "https://localhost:8080/",
          "height": 289
        },
        "outputId": "9968e4e0-756e-47d0-fb1c-dd82e2244d75"
      },
      "source": [
        "history = model.fit_generator(\n",
        "    train_generator,\n",
        "    steps_per_epoch = train_generator.samples // batch_size,\n",
        "    validation_data = validation_generator, \n",
        "    validation_steps = validation_generator.samples // batch_size,\n",
        "    epochs = 4, callbacks=[decay_callback])"
      ],
      "execution_count": 24,
      "outputs": [
        {
          "output_type": "stream",
          "text": [
            "\n",
            "Epoch 00001: LearningRateScheduler reducing learning rate to 0.021.\n",
            "Epoch 1/4\n",
            "2102/2102 [==============================] - 144s 68ms/step - loss: 0.7466 - acc: 0.7689 - val_loss: 0.8400 - val_acc: 0.7827\n",
            "\n",
            "Epoch 00002: LearningRateScheduler reducing learning rate to 0.015330626211475785.\n",
            "Epoch 2/4\n",
            "2102/2102 [==============================] - 143s 68ms/step - loss: 0.6411 - acc: 0.7947 - val_loss: 0.7672 - val_acc: 0.7924\n",
            "\n",
            "Epoch 00003: LearningRateScheduler reducing learning rate to 0.01126834238065184.\n",
            "Epoch 3/4\n",
            "2102/2102 [==============================] - 141s 67ms/step - loss: 0.5684 - acc: 0.8118 - val_loss: 0.7085 - val_acc: 0.8056\n",
            "\n",
            "Epoch 00004: LearningRateScheduler reducing learning rate to 0.008357588823428847.\n",
            "Epoch 4/4\n",
            "2102/2102 [==============================] - 141s 67ms/step - loss: 0.5071 - acc: 0.8260 - val_loss: 0.7248 - val_acc: 0.8085\n"
          ],
          "name": "stdout"
        }
      ]
    },
    {
      "cell_type": "code",
      "metadata": {
        "id": "vUVKKgY2oQB6",
        "colab_type": "code",
        "colab": {
          "base_uri": "https://localhost:8080/",
          "height": 360
        },
        "outputId": "0ad1868e-b124-4676-fee6-93d35b350449"
      },
      "source": [
        "# Save & Export\n",
        "\n",
        "model.save('HASYv2.h5')\n",
        "converter = tf.lite.TFLiteConverter.from_keras_model_file('HASYv2.h5')\n",
        "tflite_model = converter.convert()\n",
        "open('HASYv2.tflite', 'wb').write(tflite_model)"
      ],
      "execution_count": 13,
      "outputs": [
        {
          "output_type": "stream",
          "text": [
            "W0723 17:14:24.156207 140169430407040 deprecation.py:506] From /usr/local/lib/python3.6/dist-packages/tensorflow/python/ops/init_ops.py:97: calling GlorotUniform.__init__ (from tensorflow.python.ops.init_ops) with dtype is deprecated and will be removed in a future version.\n",
            "Instructions for updating:\n",
            "Call initializer instance with the dtype argument instead of passing it to the constructor\n",
            "W0723 17:14:24.157888 140169430407040 deprecation.py:506] From /usr/local/lib/python3.6/dist-packages/tensorflow/python/ops/init_ops.py:97: calling Zeros.__init__ (from tensorflow.python.ops.init_ops) with dtype is deprecated and will be removed in a future version.\n",
            "Instructions for updating:\n",
            "Call initializer instance with the dtype argument instead of passing it to the constructor\n",
            "W0723 17:14:24.163671 140169430407040 deprecation.py:506] From /usr/local/lib/python3.6/dist-packages/tensorflow/python/ops/init_ops.py:97: calling Constant.__init__ (from tensorflow.python.ops.init_ops) with dtype is deprecated and will be removed in a future version.\n",
            "Instructions for updating:\n",
            "Call initializer instance with the dtype argument instead of passing it to the constructor\n",
            "W0723 17:14:24.166286 140169430407040 deprecation.py:506] From /usr/local/lib/python3.6/dist-packages/tensorflow/python/ops/init_ops.py:97: calling Ones.__init__ (from tensorflow.python.ops.init_ops) with dtype is deprecated and will be removed in a future version.\n",
            "Instructions for updating:\n",
            "Call initializer instance with the dtype argument instead of passing it to the constructor\n",
            "W0723 17:14:25.574682 140169430407040 deprecation.py:323] From /usr/local/lib/python3.6/dist-packages/tensorflow/lite/python/util.py:238: convert_variables_to_constants (from tensorflow.python.framework.graph_util_impl) is deprecated and will be removed in a future version.\n",
            "Instructions for updating:\n",
            "Use `tf.compat.v1.graph_util.convert_variables_to_constants`\n",
            "W0723 17:14:25.576696 140169430407040 deprecation.py:323] From /usr/local/lib/python3.6/dist-packages/tensorflow/python/framework/graph_util_impl.py:270: extract_sub_graph (from tensorflow.python.framework.graph_util_impl) is deprecated and will be removed in a future version.\n",
            "Instructions for updating:\n",
            "Use `tf.compat.v1.graph_util.extract_sub_graph`\n"
          ],
          "name": "stderr"
        },
        {
          "output_type": "execute_result",
          "data": {
            "text/plain": [
              "1902256"
            ]
          },
          "metadata": {
            "tags": []
          },
          "execution_count": 13
        }
      ]
    },
    {
      "cell_type": "code",
      "metadata": {
        "id": "zfsYDMt0y5l9",
        "colab_type": "code",
        "colab": {}
      },
      "source": [
        "#Download\n",
        "\n",
        "try:\n",
        "    from google.colab import files\n",
        "    files.download('HASYv2.tflite')\n",
        "except:\n",
        "    print(\"Skip downloading\")"
      ],
      "execution_count": 0,
      "outputs": []
    },
    {
      "cell_type": "code",
      "metadata": {
        "id": "PItQm9Wz0-s-",
        "colab_type": "code",
        "colab": {
          "base_uri": "https://localhost:8080/",
          "height": 34
        },
        "outputId": "ea369bb5-36f7-4d02-cc0c-5960cb97bdb6"
      },
      "source": [
        "# Save & Export\n",
        "\n",
        "model.save('HASYv2-best.h5')\n",
        "converter = tf.lite.TFLiteConverter.from_keras_model_file('HASYv2-best.h5')\n",
        "tflite_model = converter.convert()\n",
        "open('HASYv2-best.tflite', 'wb').write(tflite_model)"
      ],
      "execution_count": 25,
      "outputs": [
        {
          "output_type": "execute_result",
          "data": {
            "text/plain": [
              "1902256"
            ]
          },
          "metadata": {
            "tags": []
          },
          "execution_count": 25
        }
      ]
    },
    {
      "cell_type": "code",
      "metadata": {
        "id": "2TOCdnYF9rta",
        "colab_type": "code",
        "colab": {}
      },
      "source": [
        "#Download\n",
        "\n",
        "try:\n",
        "    from google.colab import files\n",
        "    files.download('HASYv2-best.tflite')\n",
        "except:\n",
        "    print(\"Skip downloading\")"
      ],
      "execution_count": 0,
      "outputs": []
    },
    {
      "cell_type": "code",
      "metadata": {
        "id": "Xks4oI2c9upC",
        "colab_type": "code",
        "colab": {}
      },
      "source": [
        "# Save & Export\n",
        "\n",
        "model.save('HASYv2-best1.h5')\n",
        "converter = tf.lite.TFLiteConverter.from_keras_model_file('HASYv2-best1.h5')\n",
        "tflite_model = converter.convert()\n",
        "open('HASYv2-best1.tflite', 'wb').write(tflite_model)\n",
        "\n",
        "#Download\n",
        "\n",
        "# Export labels\n",
        "import json\n",
        "\n",
        "with open('HASYv2-lables.json', 'w') as f:\n",
        "  f.write(json.dumps(train_generator.class_indices))\n",
        "  \n",
        "\n",
        "indices_to_class = { v:k for k,v in train_generator.class_indices.items()}"
      ],
      "execution_count": 0,
      "outputs": []
    },
    {
      "cell_type": "code",
      "metadata": {
        "id": "8zQPvnhkDdxj",
        "colab_type": "code",
        "colab": {}
      },
      "source": [
        "import pandas as pd"
      ],
      "execution_count": 0,
      "outputs": []
    },
    {
      "cell_type": "code",
      "metadata": {
        "id": "ULqKkwFsDi7y",
        "colab_type": "code",
        "colab": {}
      },
      "source": [
        "\n",
        "df1 = pd.DataFrame([item for item in indices_to_class.items()])\n",
        "df1.columns = ['index', 'labels']\n",
        "df1.to_csv('HASYv2-lables.csv', header=True, index=False)\n",
        "\n",
        "try:\n",
        "    from google.colab import files\n",
        "    files.download('HASYv2-best1.tflite')\n",
        "    files.download('HASYv2-lables.csv')\n",
        "    files.download('HASYv2-lables.json')\n",
        "except:\n",
        "    print(\"Skip downloading\")\n",
        "    "
      ],
      "execution_count": 0,
      "outputs": []
    },
    {
      "cell_type": "code",
      "metadata": {
        "id": "KGCH8ZqODkEi",
        "colab_type": "code",
        "colab": {}
      },
      "source": [
        ""
      ],
      "execution_count": 0,
      "outputs": []
    }
  ]
}