{
  "nbformat": 4,
  "nbformat_minor": 0,
  "metadata": {
    "accelerator": "GPU",
    "colab": {
      "name": "keras mathsymbol v1 .ipynb",
      "version": "0.3.2",
      "provenance": [],
      "private_outputs": true,
      "collapsed_sections": [],
      "toc_visible": true
    },
    "kernelspec": {
      "name": "python3",
      "display_name": "Python 3"
    },
    "language_info": {
      "codemirror_mode": {
        "name": "ipython",
        "version": 3
      },
      "file_extension": ".py",
      "mimetype": "text/x-python",
      "name": "python",
      "nbconvert_exporter": "python",
      "pygments_lexer": "ipython3",
      "version": "3.6.8"
    }
  },
  "cells": [
    {
      "cell_type": "markdown",
      "metadata": {
        "id": "pT4AF1BGO6wx",
        "colab_type": "text"
      },
      "source": [
        "## Import "
      ]
    },
    {
      "cell_type": "code",
      "metadata": {
        "colab_type": "code",
        "id": "S89AJpQYG3du",
        "colab": {}
      },
      "source": [
        "import math\n",
        "\n",
        "import tensorflow as tf\n",
        "from tensorflow.keras.callbacks import LearningRateScheduler\n",
        "from tensorflow.keras.datasets import mnist\n",
        "from tensorflow.keras.initializers import Constant\n",
        "from tensorflow.keras.layers import Input, Conv2D, BatchNormalization, Activation, Dropout, Flatten, Dense\n",
        "from tensorflow.keras.models import Model\n",
        "from tensorflow.keras.utils import to_categorical"
      ],
      "execution_count": 0,
      "outputs": []
    },
    {
      "cell_type": "code",
      "metadata": {
        "id": "hIc4sLRW1sFp",
        "colab_type": "code",
        "colab": {}
      },
      "source": [
        "# check tensorflow version\n",
        "tf.__version__"
      ],
      "execution_count": 0,
      "outputs": []
    },
    {
      "cell_type": "code",
      "metadata": {
        "id": "VfECWVdQ1XWD",
        "colab_type": "code",
        "colab": {}
      },
      "source": [
        "# NUM_CLASSES = 10"
      ],
      "execution_count": 0,
      "outputs": []
    },
    {
      "cell_type": "markdown",
      "metadata": {
        "id": "QbhLMzd6Vl5v",
        "colab_type": "text"
      },
      "source": [
        "## Download Kaggle data"
      ]
    },
    {
      "cell_type": "code",
      "metadata": {
        "id": "co-yTWnDV0bq",
        "colab_type": "code",
        "colab": {}
      },
      "source": [
        "!wget --header=\"Host: storage.googleapis.com\" --header=\"User-Agent: Mozilla/5.0 (Macintosh; Intel Mac OS X 10_14_5) AppleWebKit/537.36 (KHTML, like Gecko) Chrome/75.0.3770.142 Safari/537.36\" --header=\"Accept: text/html,application/xhtml+xml,application/xml;q=0.9,image/webp,image/apng,*/*;q=0.8,application/signed-exchange;v=b3\" --header=\"Accept-Language: en-US,en;q=0.9,ta;q=0.8\" --header=\"Referer: https://www.kaggle.com/\" \"https://storage.googleapis.com/kaggle-datasets/663/1265/handwrittenmathsymbols.zip?GoogleAccessId=web-data@kaggle-161607.iam.gserviceaccount.com&Expires=1564136253&Signature=RYRQ1iAdRSJ5krXN8HiO9j0BifQqrUxoICFKeSE9V5k406G0UvB4fdbooPRAtlfPfqUvZE49lyvNgF5Vr5cK3idHUAQqppgRdMmnGkJXgENIeK%2B9MtTQslFXpgkVB%2FNkHY%2BBH0SKMgNPOHaoiuD8iDz1pyHLvCe6wsVsCVbPsUBUwHZItr%2FM%2Bh1bpSF0iG8WzCzug%2BWspm7%2FnDNAc2zPUKie0nlRLZUqO5GwG%2Bg2LIok%2BFq8WQCOBHWNE1BS%2FSy3KfLP6noqt5OvjT8LvZyWHf36uRwvPkyTxqifPlbq5cwicPl9utdVnNSEwItCKrvZoctZvYO5SgxZh7kbdoeevQ%3D%3D\" -O \"handwrittenmathsymbols.zip\" -c"
      ],
      "execution_count": 0,
      "outputs": []
    },
    {
      "cell_type": "code",
      "metadata": {
        "id": "t-K6uiZrV9VB",
        "colab_type": "code",
        "colab": {}
      },
      "source": [
        "# !mkdir data\n",
        "# !mv ./handwrittenmathsymbols.zip ./data\n",
        "# !mkdir ./data/mathsymbols\n",
        "# !unzip ./data/handwrittenmathsymbols.zip -d ./data/mathsymbols\n",
        "# !unrar x ./data/mathsymbols/data.rar ./data/mathsymbols/"
      ],
      "execution_count": 0,
      "outputs": []
    },
    {
      "cell_type": "code",
      "metadata": {
        "id": "OQpRa6pMYr5Q",
        "colab_type": "code",
        "colab": {}
      },
      "source": [
        "# !rm -rf ./data/mathsymbols/extracted_images/"
      ],
      "execution_count": 0,
      "outputs": []
    },
    {
      "cell_type": "code",
      "metadata": {
        "id": "TpqCvrDGWI4H",
        "colab_type": "code",
        "colab": {}
      },
      "source": [
        ""
      ],
      "execution_count": 0,
      "outputs": []
    },
    {
      "cell_type": "markdown",
      "metadata": {
        "id": "FkQ2p-UQ2txj",
        "colab_type": "text"
      },
      "source": [
        "## Load data"
      ]
    },
    {
      "cell_type": "code",
      "metadata": {
        "id": "VlRiRimJH8eL",
        "colab_type": "code",
        "colab": {}
      },
      "source": [
        "train_data_dir = './data/mathsymbols/extracted_images/'\n",
        "batch_size = 64\n",
        "img_height, img_width = 45,45\n",
        "nb_epochs = 5"
      ],
      "execution_count": 0,
      "outputs": []
    },
    {
      "cell_type": "code",
      "metadata": {
        "id": "rvr8zcGnuwxk",
        "colab_type": "code",
        "colab": {}
      },
      "source": [
        "train_datagen = tf.keras.preprocessing.image.ImageDataGenerator(rescale=1./255,\n",
        "    shear_range=0.2,\n",
        "    zoom_range=0.2,\n",
        "    horizontal_flip=False,\n",
        "    validation_split=0.2) # set validation split\n",
        "\n",
        "train_generator = train_datagen.flow_from_directory(\n",
        "    train_data_dir,\n",
        "    target_size=(img_height, img_width),\n",
        "    batch_size=batch_size,\n",
        "#     class_mode='binary',\n",
        "    subset='training') # set as training data\n",
        "\n",
        "validation_generator = train_datagen.flow_from_directory(\n",
        "    train_data_dir, # same directory as training data\n",
        "    target_size=(img_height, img_width),\n",
        "    batch_size=batch_size,\n",
        "#     class_mode='binary',\n",
        "    subset='validation') # set as validation data"
      ],
      "execution_count": 0,
      "outputs": []
    },
    {
      "cell_type": "code",
      "metadata": {
        "id": "7-WDOYCRZ82N",
        "colab_type": "code",
        "colab": {}
      },
      "source": [
        "NUM_CLASSES = 82"
      ],
      "execution_count": 0,
      "outputs": []
    },
    {
      "cell_type": "markdown",
      "metadata": {
        "id": "aFoFz-hzPpJq",
        "colab_type": "text"
      },
      "source": [
        "## Build & Train model"
      ]
    },
    {
      "cell_type": "code",
      "metadata": {
        "id": "pFVZxRzcw-qM",
        "colab_type": "code",
        "colab": {}
      },
      "source": [
        "## Model \n",
        "inputs = Input(shape=(45, 45, 3), name='input')\n",
        "\n",
        "x = Conv2D(24, kernel_size=(6, 6), strides=1)(inputs)\n",
        "x = BatchNormalization(scale=False, beta_initializer=Constant(0.01))(x)\n",
        "x = Activation('relu')(x)\n",
        "\n",
        "x = Conv2D(48, kernel_size=(5, 5), strides=2)(x)\n",
        "x = BatchNormalization(scale=False, beta_initializer=Constant(0.01))(x)\n",
        "x = Activation('relu')(x)\n",
        "\n",
        "\n",
        "x = Conv2D(64, kernel_size=(4, 4), strides=2)(x)\n",
        "x = BatchNormalization(scale=False, beta_initializer=Constant(0.01))(x)\n",
        "x = Activation('relu')(x)\n",
        "\n",
        "x = tf.keras.layers.Flatten()(x)\n",
        "x = Dense(200)(x)\n",
        "x = BatchNormalization(scale=False, beta_initializer=Constant(0.01))(x)\n",
        "x = Activation('relu')(x)\n",
        "x = Dropout(rate=0.25)(x)\n",
        "\n",
        "predications = Dense(NUM_CLASSES, activation='softmax', name='output')(x)\n",
        "\n",
        "model = Model(inputs=inputs, outputs=predications)\n",
        "model.compile(loss='categorical_crossentropy', optimizer='adam', metrics=['accuracy'])\n",
        "\n",
        "model.summary()"
      ],
      "execution_count": 0,
      "outputs": []
    },
    {
      "cell_type": "code",
      "metadata": {
        "colab_type": "code",
        "id": "_Lq0YDUYiTMN",
        "colab": {}
      },
      "source": [
        "lr_decay = lambda epoch: 0.001 + 0.02 * math.pow(1.0 / math.e, epoch / 3.0)\n",
        "decay_callback = LearningRateScheduler(lr_decay, verbose=1)"
      ],
      "execution_count": 0,
      "outputs": []
    },
    {
      "cell_type": "code",
      "metadata": {
        "id": "m9gYc-oC0Wwe",
        "colab_type": "code",
        "colab": {}
      },
      "source": [
        "# history = model.fit(x_train, y_train, batch_size=128, epochs=10, verbose=1, \n",
        "#                     validation_data=(x_test, y_test), callbacks=[decay_callback])\n",
        "\n",
        "# model.load_weights('mathsymbol.h5')\n",
        "\n",
        "model.fit_generator(\n",
        "    train_generator,\n",
        "    steps_per_epoch = train_generator.samples // batch_size,\n",
        "    validation_data = validation_generator, \n",
        "    validation_steps = validation_generator.samples // batch_size,\n",
        "    epochs = 5, callbacks=[decay_callback])"
      ],
      "execution_count": 0,
      "outputs": []
    },
    {
      "cell_type": "code",
      "metadata": {
        "id": "Q6cDu1pHN0H2",
        "colab_type": "code",
        "colab": {}
      },
      "source": [
        "# Save & Export\n",
        "\n",
        "model.save('mathsymbol-best.h5')\n",
        "converter = tf.lite.TFLiteConverter.from_keras_model_file('mathsymbol-best.h5')\n",
        "tflite_model = converter.convert()\n",
        "open('mathsymbol-best.tflite', 'wb').write(tflite_model)"
      ],
      "execution_count": 0,
      "outputs": []
    },
    {
      "cell_type": "code",
      "metadata": {
        "id": "LUekMufINAkO",
        "colab_type": "code",
        "colab": {}
      },
      "source": [
        ""
      ],
      "execution_count": 0,
      "outputs": []
    },
    {
      "cell_type": "markdown",
      "metadata": {
        "id": "5y3vtwOSOA8_",
        "colab_type": "text"
      },
      "source": [
        "## Download tflite\n"
      ]
    },
    {
      "cell_type": "code",
      "metadata": {
        "colab_type": "code",
        "id": "51PTkdoPDOTW",
        "colab": {}
      },
      "source": [
        "try:\n",
        "    from google.colab import files\n",
        "    files.download('mathsymbol-best.tflite')\n",
        "except:\n",
        "    print(\"Skip downloading\")"
      ],
      "execution_count": 0,
      "outputs": []
    },
    {
      "cell_type": "code",
      "metadata": {
        "id": "JU1A_Z244xB3",
        "colab_type": "code",
        "colab": {}
      },
      "source": [
        ""
      ],
      "execution_count": 0,
      "outputs": []
    },
    {
      "cell_type": "code",
      "metadata": {
        "id": "n3MV7GrYAe-R",
        "colab_type": "code",
        "colab": {}
      },
      "source": [
        ""
      ],
      "execution_count": 0,
      "outputs": []
    }
  ]
}